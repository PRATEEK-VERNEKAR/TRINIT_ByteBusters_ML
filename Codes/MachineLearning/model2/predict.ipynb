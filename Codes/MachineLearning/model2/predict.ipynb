{
 "cells": [
  {
   "cell_type": "code",
   "execution_count": 7,
   "metadata": {},
   "outputs": [
    {
     "name": "stdout",
     "output_type": "stream",
     "text": [
      "The predicted class for the given text is: 1\n"
     ]
    }
   ],
   "source": [
    "import pickle\n",
    "\n",
    "with open('vectorizer.pkl', 'rb') as vectorizer_file:\n",
    "    vectorizer = pickle.load(vectorizer_file)\n",
    "\n",
    "with open('model.pkl', 'rb') as model_file:\n",
    "    model = pickle.load(model_file)\n",
    "\n",
    "def predict_class(new_text):\n",
    "    new_text_vectorized = vectorizer.transform([new_text])\n",
    "\n",
    "    predicted_class = model.predict(new_text_vectorized)\n",
    "\n",
    "    return predicted_class[0]\n",
    "\n",
    "new_text_to_predict = \"There was a guy who was constantly commenting on my body and my dress\"\n",
    "predicted_class = predict_class(new_text_to_predict)\n",
    "\n",
    "print(f'The predicted class for the given text is: {predicted_class}')\n"
   ]
  },
  {
   "cell_type": "code",
   "execution_count": null,
   "metadata": {},
   "outputs": [],
   "source": []
  }
 ],
 "metadata": {
  "kernelspec": {
   "display_name": "base",
   "language": "python",
   "name": "python3"
  },
  "language_info": {
   "codemirror_mode": {
    "name": "ipython",
    "version": 3
   },
   "file_extension": ".py",
   "mimetype": "text/x-python",
   "name": "python",
   "nbconvert_exporter": "python",
   "pygments_lexer": "ipython3",
   "version": "3.12.2"
  }
 },
 "nbformat": 4,
 "nbformat_minor": 2
}
